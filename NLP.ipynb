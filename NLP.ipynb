{
  "nbformat": 4,
  "nbformat_minor": 0,
  "metadata": {
    "colab": {
      "provenance": []
    },
    "kernelspec": {
      "name": "python3",
      "display_name": "Python 3"
    },
    "language_info": {
      "name": "python"
    }
  },
  "cells": [
    {
      "cell_type": "code",
      "execution_count": null,
      "metadata": {
        "id": "5kImjAVclZEf"
      },
      "outputs": [],
      "source": [
        "!pip install zemberek-python\n",
        "!pip install gradio"
      ]
    },
    {
      "cell_type": "code",
      "source": [
        "import time\n",
        "from zemberek import TurkishMorphology, TurkishSentenceNormalizer\n",
        "import gradio as gr\n",
        "\n",
        "def correct_sentence(sentence):\n",
        "    morphology = TurkishMorphology.create_with_defaults()\n",
        "    normalizer = TurkishSentenceNormalizer(morphology)\n",
        "    normalized_sentence = normalizer.normalize(sentence)\n",
        "    return normalized_sentence\n",
        "\n",
        "def main():\n",
        "    sentence_corrector_interface = gr.Interface(\n",
        "        fn=correct_sentence,\n",
        "        inputs=\"text\",\n",
        "        outputs=\"text\",\n",
        "        title=\"Türkçe Cümle Düzeltici\",\n",
        "        description=\"Verilen Türkçe cümleyi düzelterek doğru hale getirir.\"\n",
        "    )\n",
        "\n",
        "    sentence_corrector_interface.launch(debug=True, inline=False)\n",
        "\n",
        "\n",
        "if __name__ == \"__main__\":\n",
        "    main()\n"
      ],
      "metadata": {
        "id": "0aSaq341tMlH"
      },
      "execution_count": null,
      "outputs": []
    }
  ]
}